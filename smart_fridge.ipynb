{
 "cells": [
  {
   "cell_type": "code",
   "execution_count": 86,
   "id": "1dd0cc67",
   "metadata": {},
   "outputs": [],
   "source": [
    "import pandas as pd\n",
    "import numpy as np"
   ]
  },
  {
   "cell_type": "code",
   "execution_count": 175,
   "id": "efa1b026",
   "metadata": {},
   "outputs": [],
   "source": [
    "food_path = 'MyFoodData.csv'\n",
    "df = pd.read_csv(food_path)\n",
    "df.columns = ['ID', 'Name', 'Group', 'Carbohydrate', 'Ranking']\n",
    "\n",
    "min_carb_intake = 10\n",
    "\n",
    "if min_carb_intake < 0 or min_carb_intake > 300:\n",
    "    raise ValueError(f\"Invalid min carbohydrate intake: {min_carb_intake}\")\n",
    "\n",
    "max_carb_intake = 90\n",
    "\n",
    "if max_carb_intake < 0 or max_carb_intake > 300 or max_carb_intake < min_carb_intake:\n",
    "    raise ValueError(f\"Invalid max carbohydrate intake: {max_carb_intake}\")\n",
    "    \n",
    "TARGET_AVERAGE_RANK = 8\n",
    "FRIDGE_ITEMS = 30\n",
    "\n",
    "# cleaning the list of foods\n",
    "df = df[df.Ranking > 1] # removing items with rank less than 1 because in worst case they wouldn't meet average\n",
    "df = df[df.Group != 'Fats and Oils'] # this is an ingredient of foods, no one eats this by itself\n"
   ]
  },
  {
   "cell_type": "code",
   "execution_count": 176,
   "id": "793c201e",
   "metadata": {
    "scrolled": true
   },
   "outputs": [],
   "source": [
    "fridge = df.sample(n=FRIDGE_ITEMS, replace=False, ignore_index=True)\n",
    "\n",
    "\n",
    "drinks = fridge[(fridge['Group'] == 'Beverages')] # separating only the beverages"
   ]
  },
  {
   "cell_type": "code",
   "execution_count": 177,
   "id": "6e71c301",
   "metadata": {},
   "outputs": [],
   "source": [
    "fridge = fridge.sort_values(by=['Ranking'], ascending=False) # ensures most preffered menu"
   ]
  },
  {
   "cell_type": "code",
   "execution_count": 178,
   "id": "fcf36f2d",
   "metadata": {},
   "outputs": [],
   "source": [
    "#converting pandas dataframes to numpy arrays that are faster to iterate through\n",
    "fridge_n = fridge[['ID','Carbohydrate','Ranking']].to_numpy()\n",
    "drinks_n = drinks[['ID','Carbohydrate','Ranking']].to_numpy()\n",
    "\n",
    "menu = np.zeros((1,3), dtype='int64') # initializing an empty menu\n",
    "\n",
    "def print_menu(menu):\n",
    "    for item in menu[:,0]:\n",
    "        print(fridge[fridge['ID'] == item])\n",
    "    print('Total carbohydrates in menu: ',menu[:,1].sum())\n",
    "\n",
    "def check_valid_menu(proposed_menu):\n",
    "    if (proposed_menu[:,2].mean() >= TARGET_AVERAGE_RANK and\n",
    "        proposed_menu[:,1].sum() >= min_carb_intake and\n",
    "        proposed_menu[:,1].sum() <= max_carb_intake):\n",
    "        result = True\n",
    "    else:\n",
    "        result = False\n",
    "    return result"
   ]
  },
  {
   "cell_type": "code",
   "execution_count": 179,
   "id": "7b66ce39",
   "metadata": {},
   "outputs": [
    {
     "name": "stdout",
     "output_type": "stream",
     "text": [
      "        ID                                               Name      Group  \\\n",
      "25  175114  Cocoa Mix Low Calorie Powder With Added Calciu...  Beverages   \n",
      "\n",
      "    Carbohydrate  Ranking  \n",
      "25            58        7  \n",
      "        ID                              Name  Group  Carbohydrate  Ranking\n",
      "12  174608  Oven-Roasted Chicken Breast Roll  Meats             2       10\n",
      "Total carbohydrates in menu:  60\n"
     ]
    }
   ],
   "source": [
    "valid_menu = False\n",
    "for idx in range(drinks_n.shape[0]):\n",
    "    if drinks_n.size == 0:\n",
    "        print('there is no valid menu because there are no drinks')\n",
    "        break\n",
    "    else:\n",
    "        if drinks_n[idx,1] < max_carb_intake and not valid_menu: # checking if carbs in item are at least smaller than max\n",
    "            menu[0] = drinks_n[idx]\n",
    "            for idx2 in range(fridge_n.shape[0]): # getting menu item #2\n",
    "                if fridge_n[idx2,0] not in menu:\n",
    "                    proposed_menu = np.vstack((menu,fridge_n[idx2,:]))\n",
    "                    valid_menu = check_valid_menu(proposed_menu)\n",
    "                    if valid_menu:\n",
    "                        menu = proposed_menu\n",
    "                        print_menu(menu)\n",
    "                        break\n",
    "                    elif total_carbs < min_carb_intake and not valid_menu: # getting menu item #3\n",
    "                        for idx3 in range(fridge_n.shape[0]):\n",
    "                            if fridge_n[idx3,0] not in menu:\n",
    "                                proposed_menu = np.vstack((menu,fridge_n[idx2,:]))\n",
    "                                valid_menu = check_valid_menu(proposed_menu)\n",
    "                                if valid_menu:\n",
    "                                    menu = proposed_menu\n",
    "                                    print_menu(menu)\n",
    "                                    break\n",
    "                                elif total_carbs < min_carb_intake and not valid_menu: # getting menu item #4\n",
    "                                    for idx4 in range(fridge_n.shape[0]):\n",
    "                                        if fridge_n[idx4,0] not in menu:\n",
    "                                            proposed_menu = np.vstack((menu,fridge_n[idx2,:]))\n",
    "                                            valid_menu = check_valid_menu(proposed_menu)\n",
    "                                            if valid_menu:\n",
    "                                                menu = proposed_menu\n",
    "                                                print_menu(menu)\n",
    "                                                break\n",
    "if not valid_menu:\n",
    "    print('there is no valid menu')"
   ]
  },
  {
   "cell_type": "code",
   "execution_count": 138,
   "id": "9c60bdb1",
   "metadata": {},
   "outputs": [
    {
     "name": "stdout",
     "output_type": "stream",
     "text": [
      "True\n"
     ]
    }
   ],
   "source": []
  },
  {
   "cell_type": "code",
   "execution_count": 233,
   "id": "51c0863e",
   "metadata": {},
   "outputs": [],
   "source": [
    "import pandas as pd\n",
    "import numpy as np\n",
    "\n",
    "def print_menu(menu,fridge):\n",
    "    for item in menu[:,0]:\n",
    "        print(fridge[fridge['ID'] == item])\n",
    "    print('Total carbohydrates in menu: ',menu[:,1].sum())\n",
    "\n",
    "def check_valid_menu(proposed_menu):\n",
    "    if (proposed_menu[:,2].mean() >= TARGET_AVERAGE_RANK and\n",
    "        proposed_menu[:,1].sum() >= min_carb_intake and\n",
    "        proposed_menu[:,1].sum() <= max_carb_intake):\n",
    "        result = True\n",
    "    else:\n",
    "        result = False\n",
    "    return result\n",
    "\n",
    "def meal_recommendation(min_carb_intake, max_carb_intake, food_path):\n",
    "    df = pd.read_csv(food_path)\n",
    "    df.columns = ['ID', 'Name', 'Group', 'Carbohydrate', 'Ranking']\n",
    "\n",
    "    if min_carb_intake < 0 or min_carb_intake > 300:\n",
    "        raise ValueError(f\"Invalid min carbohydrate intake: {min_carb_intake}\")\n",
    "\n",
    "    if max_carb_intake < 0 or max_carb_intake > 300 or max_carb_intake < min_carb_intake:\n",
    "        raise ValueError(f\"Invalid max carbohydrate intake: {max_carb_intake}\")\n",
    "\n",
    "    TARGET_AVERAGE_RANK = 8\n",
    "    FRIDGE_ITEMS = 30\n",
    "\n",
    "    df = df[df.Ranking > 1] # removing items with rank less than 1 because in worst case they wouldn't meet average\n",
    "    df = df[df.Group != 'Fats and Oils'] # this is an ingredient of foods, no one eats this by itself\n",
    "    \n",
    "    fridge = df.sample(n=FRIDGE_ITEMS, replace=False, ignore_index=True) # taking 30 random items for fridge\n",
    "    drinks = fridge[(fridge['Group'] == 'Beverages')] # separating only the beverages\n",
    "    fridge = fridge.sort_values(by=['Ranking'], ascending=False) # ensures most preffered menu\n",
    "    #converting pandas dataframes to numpy arrays that are faster to iterate through\n",
    "    fridge_n = fridge[['ID','Carbohydrate','Ranking']].to_numpy()\n",
    "    drinks_n = drinks[['ID','Carbohydrate','Ranking']].to_numpy()\n",
    "\n",
    "    menu = np.zeros((1,3), dtype='int64') # initializing an empty menu\n",
    "    \n",
    "    valid_menu = False\n",
    "    for idx in range(drinks_n.shape[0]):\n",
    "        if drinks_n.size == 0:\n",
    "            print('there is no valid menu because there are no drinks')\n",
    "            break\n",
    "        else:\n",
    "            if drinks_n[idx,1] < max_carb_intake and not valid_menu: # checking if carbs in item are at least smaller than max\n",
    "                menu[0] = drinks_n[idx]\n",
    "                for idx2 in range(fridge_n.shape[0]): # getting menu item #2\n",
    "                    if fridge_n[idx2,0] not in menu:\n",
    "                        proposed_menu = np.vstack((menu,fridge_n[idx2,:]))\n",
    "                        valid_menu = check_valid_menu(proposed_menu)\n",
    "                        if valid_menu:\n",
    "                            menu = proposed_menu\n",
    "                            print_menu(menu,fridge)\n",
    "                            break\n",
    "                        elif total_carbs < min_carb_intake and not valid_menu: # getting menu item #3\n",
    "                            for idx3 in range(fridge_n.shape[0]):\n",
    "                                if fridge_n[idx3,0] not in menu:\n",
    "                                    proposed_menu = np.vstack((menu,fridge_n[idx2,:]))\n",
    "                                    valid_menu = check_valid_menu(proposed_menu)\n",
    "                                    if valid_menu:\n",
    "                                        menu = proposed_menu\n",
    "                                        print_menu(menu,fridge)\n",
    "                                        break\n",
    "                                    elif total_carbs < min_carb_intake and not valid_menu: # getting menu item #4\n",
    "                                        for idx4 in range(fridge_n.shape[0]):\n",
    "                                            if fridge_n[idx4,0] not in menu:\n",
    "                                                proposed_menu = np.vstack((menu,fridge_n[idx2,:]))\n",
    "                                                valid_menu = check_valid_menu(proposed_menu)\n",
    "                                                if valid_menu:\n",
    "                                                    menu = proposed_menu\n",
    "                                                    print_menu(menu,fridge)\n",
    "                                                    break\n",
    "    if not valid_menu:\n",
    "        print('there is no valid menu')"
   ]
  },
  {
   "cell_type": "code",
   "execution_count": 239,
   "id": "bb4fbd6a",
   "metadata": {},
   "outputs": [
    {
     "name": "stdout",
     "output_type": "stream",
     "text": [
      "       ID             Name      Group  Carbohydrate  Ranking\n",
      "6  173201  Sauvignon Blanc  Beverages             2        9\n",
      "       ID                                               Name           Group  \\\n",
      "4  786457  Rice Brown With Vegetables Soy-Based Sauce Fat...  Prepared Meals   \n",
      "\n",
      "   Carbohydrate  Ranking  \n",
      "4            19       10  \n",
      "Total carbohydrates in menu:  21\n"
     ]
    }
   ],
   "source": [
    "meal_recommendation(50,70,'MyFoodData.csv')"
   ]
  }
 ],
 "metadata": {
  "kernelspec": {
   "display_name": "Python 3 (ipykernel)",
   "language": "python",
   "name": "python3"
  },
  "language_info": {
   "codemirror_mode": {
    "name": "ipython",
    "version": 3
   },
   "file_extension": ".py",
   "mimetype": "text/x-python",
   "name": "python",
   "nbconvert_exporter": "python",
   "pygments_lexer": "ipython3",
   "version": "3.10.2"
  }
 },
 "nbformat": 4,
 "nbformat_minor": 5
}
