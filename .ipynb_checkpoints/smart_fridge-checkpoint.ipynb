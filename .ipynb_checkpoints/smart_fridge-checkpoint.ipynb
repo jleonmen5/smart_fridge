{
 "cells": [
  {
   "cell_type": "code",
   "execution_count": 4,
   "id": "1dd0cc67",
   "metadata": {},
   "outputs": [],
   "source": [
    "import pandas as pd\n",
    "import numpy as np\n",
    "%config IPCompleter.greedy=True\n"
   ]
  },
  {
   "cell_type": "code",
   "execution_count": 5,
   "id": "efa1b026",
   "metadata": {},
   "outputs": [],
   "source": [
    "df = pd.read_csv('MyFoodData.csv')\n",
    "df.columns = ['ID', 'Name', 'Group', 'Carbohydrate', 'Ranking']\n",
    "min_carb_intake = 10\n",
    "max_carb_intake = 200\n",
    "target_avg_rank = 8\n",
    "fridge_items = 4\n",
    "df = df[df.Ranking > 1] # removing items with rank less than 1 because in worst case they wouldn't meet avg\n",
    "df = df[df.Group != 'Fats and Oils'] # this is an ingredient of foods, no one eats this by itself\n",
    "# sanity check that all inputs are valid"
   ]
  },
  {
   "cell_type": "code",
   "execution_count": 10,
   "id": "793c201e",
   "metadata": {
    "scrolled": true
   },
   "outputs": [
    {
     "data": {
      "text/html": [
       "<div>\n",
       "<style scoped>\n",
       "    .dataframe tbody tr th:only-of-type {\n",
       "        vertical-align: middle;\n",
       "    }\n",
       "\n",
       "    .dataframe tbody tr th {\n",
       "        vertical-align: top;\n",
       "    }\n",
       "\n",
       "    .dataframe thead th {\n",
       "        text-align: right;\n",
       "    }\n",
       "</style>\n",
       "<table border=\"1\" class=\"dataframe\">\n",
       "  <thead>\n",
       "    <tr style=\"text-align: right;\">\n",
       "      <th></th>\n",
       "      <th>ID</th>\n",
       "      <th>Name</th>\n",
       "      <th>Group</th>\n",
       "      <th>Carbohydrate</th>\n",
       "      <th>Ranking</th>\n",
       "    </tr>\n",
       "  </thead>\n",
       "  <tbody>\n",
       "    <tr>\n",
       "      <th>2</th>\n",
       "      <td>789384</td>\n",
       "      <td>Frozen Mocha Coffee Drink Decaffeinated</td>\n",
       "      <td>Beverages</td>\n",
       "      <td>13</td>\n",
       "      <td>9</td>\n",
       "    </tr>\n",
       "  </tbody>\n",
       "</table>\n",
       "</div>"
      ],
      "text/plain": [
       "       ID                                     Name      Group  Carbohydrate  \\\n",
       "2  789384  Frozen Mocha Coffee Drink Decaffeinated  Beverages            13   \n",
       "\n",
       "   Ranking  \n",
       "2        9  "
      ]
     },
     "execution_count": 10,
     "metadata": {},
     "output_type": "execute_result"
    }
   ],
   "source": [
    "fridge = df.sample(n=fridge_items, replace=False, ignore_index=True)\n",
    "fridge = fridge.sort_values(by=['Ranking'], ascending=False)\n",
    "# menu = pd.DataFrame(columns = ['ID', 'Name', 'Group', 'Carbohydrate', 'Ranking']) #this may not be needed\n",
    "average_rank = fridge['Ranking'].mean()\n",
    "total_carbs = fridge['Carbohydrate'].sum()\n",
    "item_counts = menu['ID'].count()\n",
    "\n",
    "#initializing a list of beverages \n",
    "drinks = fridge[(fridge['Group'] == 'Beverages')]\n",
    "#removing drinks from the fridge\n",
    "fridge = fridge[(fridge['Group'] != 'Beverages')]\n",
    "#you can reduce the search space as you go because there are cases that will not meet the conditions\n",
    "drinks"
   ]
  },
  {
   "cell_type": "code",
   "execution_count": 163,
   "id": "fcf36f2d",
   "metadata": {},
   "outputs": [
    {
     "data": {
      "text/plain": [
       "3"
      ]
     },
     "execution_count": 163,
     "metadata": {},
     "output_type": "execute_result"
    }
   ],
   "source": [
    "fridge_n = fridge[['ID','Carbohydrate','Ranking']].to_numpy()\n",
    "drinks_n = drinks[['ID','Carbohydrate','Ranking']].to_numpy()\n",
    "menu = np.empty((0,3), dtype='int64')\n",
    "# menu = np.vstack((fridge_n,fridge_n[0,:]))\n",
    "fridge_n.shape[0]"
   ]
  },
  {
   "cell_type": "code",
   "execution_count": 165,
   "id": "7b66ce39",
   "metadata": {},
   "outputs": [
    {
     "name": "stdout",
     "output_type": "stream",
     "text": [
      "True\n"
     ]
    }
   ],
   "source": [
    "for ix in range(drinks_n.shape[0]):\n",
    "    if drinks_n.size == 0:\n",
    "        print('there is no valid menu because there are no drinks')\n",
    "        break\n",
    "    else:\n",
    "        print(drinks_n[ix,0] in drinks_n)"
   ]
  },
  {
   "cell_type": "code",
   "execution_count": 151,
   "id": "9c60bdb1",
   "metadata": {},
   "outputs": [
    {
     "name": "stdout",
     "output_type": "stream",
     "text": [
      "yes\n"
     ]
    }
   ],
   "source": [
    "if drinks_n[ix,0] in drinks_n:\n",
    "    print('yes')\n",
    "else :\n",
    "    print('no')"
   ]
  },
  {
   "cell_type": "code",
   "execution_count": null,
   "id": "51c0863e",
   "metadata": {},
   "outputs": [],
   "source": []
  },
  {
   "cell_type": "code",
   "execution_count": null,
   "id": "bb4fbd6a",
   "metadata": {},
   "outputs": [],
   "source": []
  }
 ],
 "metadata": {
  "kernelspec": {
   "display_name": "Python 3 (ipykernel)",
   "language": "python",
   "name": "python3"
  },
  "language_info": {
   "codemirror_mode": {
    "name": "ipython",
    "version": 3
   },
   "file_extension": ".py",
   "mimetype": "text/x-python",
   "name": "python",
   "nbconvert_exporter": "python",
   "pygments_lexer": "ipython3",
   "version": "3.10.2"
  }
 },
 "nbformat": 4,
 "nbformat_minor": 5
}
