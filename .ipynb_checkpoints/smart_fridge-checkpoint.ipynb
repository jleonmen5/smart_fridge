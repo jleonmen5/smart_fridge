{
 "cells": [
  {
   "cell_type": "code",
   "execution_count": 209,
   "id": "1dd0cc67",
   "metadata": {},
   "outputs": [],
   "source": [
    "import pandas as pd\n",
    "import numpy as np\n",
    "%config IPCompleter.greedy=True\n"
   ]
  },
  {
   "cell_type": "code",
   "execution_count": 210,
   "id": "efa1b026",
   "metadata": {},
   "outputs": [],
   "source": [
    "df = pd.read_csv('MyFoodData.csv')\n",
    "df.columns = ['ID', 'Name', 'Group', 'Carbohydrate', 'Ranking']\n",
    "min_carb_intake = 10\n",
    "max_carb_intake = 200\n",
    "target_avg_rank = 8\n",
    "fridge_items = 4\n",
    "df = df[df.Ranking > 1] # removing items with rank less than 1 because in worst case they wouldn't meet avg\n",
    "df = df[df.Group != 'Fats and Oils'] # this is an ingredient of foods, no one eats this by itself\n",
    "# sanity check that all inputs are valid"
   ]
  },
  {
   "cell_type": "code",
   "execution_count": 212,
   "id": "793c201e",
   "metadata": {
    "scrolled": true
   },
   "outputs": [
    {
     "data": {
      "text/html": [
       "<div>\n",
       "<style scoped>\n",
       "    .dataframe tbody tr th:only-of-type {\n",
       "        vertical-align: middle;\n",
       "    }\n",
       "\n",
       "    .dataframe tbody tr th {\n",
       "        vertical-align: top;\n",
       "    }\n",
       "\n",
       "    .dataframe thead th {\n",
       "        text-align: right;\n",
       "    }\n",
       "</style>\n",
       "<table border=\"1\" class=\"dataframe\">\n",
       "  <thead>\n",
       "    <tr style=\"text-align: right;\">\n",
       "      <th></th>\n",
       "      <th>ID</th>\n",
       "      <th>Name</th>\n",
       "      <th>Group</th>\n",
       "      <th>Carbohydrate</th>\n",
       "      <th>Ranking</th>\n",
       "    </tr>\n",
       "  </thead>\n",
       "  <tbody>\n",
       "    <tr>\n",
       "      <th>3</th>\n",
       "      <td>171886</td>\n",
       "      <td>Cocoa Mix No Sugar Added Powder</td>\n",
       "      <td>Beverages</td>\n",
       "      <td>72</td>\n",
       "      <td>5</td>\n",
       "    </tr>\n",
       "  </tbody>\n",
       "</table>\n",
       "</div>"
      ],
      "text/plain": [
       "       ID                             Name      Group  Carbohydrate  Ranking\n",
       "3  171886  Cocoa Mix No Sugar Added Powder  Beverages            72        5"
      ]
     },
     "execution_count": 212,
     "metadata": {},
     "output_type": "execute_result"
    }
   ],
   "source": [
    "fridge = df.sample(n=fridge_items, replace=False, ignore_index=True)\n",
    "fridge = fridge.sort_values(by=['Ranking'], ascending=False)\n",
    "# menu = pd.DataFrame(columns = ['ID', 'Name', 'Group', 'Carbohydrate', 'Ranking']) #this may not be needed\n",
    "# average_rank = fridge['Ranking'].mean()\n",
    "# total_carbs = fridge['Carbohydrate'].sum()\n",
    "# item_counts = menu['ID'].count()\n",
    "\n",
    "#initializing a list of beverages \n",
    "drinks = fridge[(fridge['Group'] == 'Beverages')]\n",
    "#removing drinks from the fridge\n",
    "fridge = fridge[(fridge['Group'] != 'Beverages')]\n",
    "#you can reduce the search space as you go because there are cases that will not meet the conditions\n",
    "drinks"
   ]
  },
  {
   "cell_type": "code",
   "execution_count": 218,
   "id": "fcf36f2d",
   "metadata": {},
   "outputs": [
    {
     "data": {
      "text/html": [
       "<div>\n",
       "<style scoped>\n",
       "    .dataframe tbody tr th:only-of-type {\n",
       "        vertical-align: middle;\n",
       "    }\n",
       "\n",
       "    .dataframe tbody tr th {\n",
       "        vertical-align: top;\n",
       "    }\n",
       "\n",
       "    .dataframe thead th {\n",
       "        text-align: right;\n",
       "    }\n",
       "</style>\n",
       "<table border=\"1\" class=\"dataframe\">\n",
       "  <thead>\n",
       "    <tr style=\"text-align: right;\">\n",
       "      <th></th>\n",
       "      <th>ID</th>\n",
       "      <th>Name</th>\n",
       "      <th>Group</th>\n",
       "      <th>Carbohydrate</th>\n",
       "      <th>Ranking</th>\n",
       "    </tr>\n",
       "  </thead>\n",
       "  <tbody>\n",
       "    <tr>\n",
       "      <th>1</th>\n",
       "      <td>168929</td>\n",
       "      <td>Cornmeal Degermed Unenriched Yellow</td>\n",
       "      <td>Grains and Pasta</td>\n",
       "      <td>79</td>\n",
       "      <td>8</td>\n",
       "    </tr>\n",
       "    <tr>\n",
       "      <th>2</th>\n",
       "      <td>788122</td>\n",
       "      <td>Cauliflower Cooked From Fresh Fat Added In Coo...</td>\n",
       "      <td>Vegetables</td>\n",
       "      <td>4</td>\n",
       "      <td>3</td>\n",
       "    </tr>\n",
       "    <tr>\n",
       "      <th>0</th>\n",
       "      <td>173841</td>\n",
       "      <td>Veal Sirloin Separable Lean Only Cooked Braised</td>\n",
       "      <td>Meats</td>\n",
       "      <td>0</td>\n",
       "      <td>2</td>\n",
       "    </tr>\n",
       "  </tbody>\n",
       "</table>\n",
       "</div>"
      ],
      "text/plain": [
       "       ID                                               Name  \\\n",
       "1  168929                Cornmeal Degermed Unenriched Yellow   \n",
       "2  788122  Cauliflower Cooked From Fresh Fat Added In Coo...   \n",
       "0  173841    Veal Sirloin Separable Lean Only Cooked Braised   \n",
       "\n",
       "              Group  Carbohydrate  Ranking  \n",
       "1  Grains and Pasta            79        8  \n",
       "2        Vegetables             4        3  \n",
       "0             Meats             0        2  "
      ]
     },
     "execution_count": 218,
     "metadata": {},
     "output_type": "execute_result"
    }
   ],
   "source": [
    "fridge_n = fridge[['ID','Carbohydrate','Ranking']].to_numpy()\n",
    "drinks_n = drinks[['ID','Carbohydrate','Ranking']].to_numpy()\n",
    "menu = np.zeros((4,3), dtype='int64')\n",
    "# menu = np.vstack((fridge_n,fridge_n[0,:]))\n",
    "fridge"
   ]
  },
  {
   "cell_type": "code",
   "execution_count": 217,
   "id": "7b66ce39",
   "metadata": {},
   "outputs": [],
   "source": [
    "for idx in range(drinks_n.shape[0]):\n",
    "    if drinks_n.size == 0:\n",
    "        print('there is no valid menu because there are no drinks')\n",
    "        break\n",
    "    else:\n",
    "        if drinks_n[idx,1] < max_carb_intake: # checking if carbs in item are at least smaller than max\n",
    "            menu[0] = drinks_n[idx]\n",
    "            #print(menu)\n",
    "            for idx2 in range(fridge_n.shape[0]):\n",
    "                if fridge_n[idx2,0] in menu:\n",
    "                    break\n",
    "                else:\n",
    "                    if round((menu[:,2].sum() + fridge_n[idx2,2])/(menu.shape[0]+1)) >= 8:\n",
    "                        print('yes')\n",
    "        "
   ]
  },
  {
   "cell_type": "code",
   "execution_count": 151,
   "id": "9c60bdb1",
   "metadata": {},
   "outputs": [
    {
     "name": "stdout",
     "output_type": "stream",
     "text": [
      "yes\n"
     ]
    }
   ],
   "source": [
    "if drinks_n[ix,0] in drinks_n:\n",
    "    print('yes')\n",
    "else :\n",
    "    print('no')\n",
    "    \n",
    "if round((menu[:,2].sum() + drinks_n[idx,2])/(menu.shape[0]+1)) >= 8:"
   ]
  },
  {
   "cell_type": "code",
   "execution_count": 170,
   "id": "51c0863e",
   "metadata": {},
   "outputs": [
    {
     "data": {
      "text/plain": [
       "array([[170440,     20,     10],\n",
       "       [788093,      5,      7],\n",
       "       [783111,     14,      2]], dtype=int64)"
      ]
     },
     "execution_count": 170,
     "metadata": {},
     "output_type": "execute_result"
    }
   ],
   "source": [
    "fridge_n"
   ]
  },
  {
   "cell_type": "code",
   "execution_count": null,
   "id": "bb4fbd6a",
   "metadata": {},
   "outputs": [],
   "source": []
  }
 ],
 "metadata": {
  "kernelspec": {
   "display_name": "Python 3 (ipykernel)",
   "language": "python",
   "name": "python3"
  },
  "language_info": {
   "codemirror_mode": {
    "name": "ipython",
    "version": 3
   },
   "file_extension": ".py",
   "mimetype": "text/x-python",
   "name": "python",
   "nbconvert_exporter": "python",
   "pygments_lexer": "ipython3",
   "version": "3.10.2"
  }
 },
 "nbformat": 4,
 "nbformat_minor": 5
}
