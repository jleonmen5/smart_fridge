{
 "cells": [
  {
   "cell_type": "code",
   "execution_count": 128,
   "id": "51c0863e",
   "metadata": {},
   "outputs": [],
   "source": [
    "import pandas as pd\n",
    "import numpy as np\n",
    "\n",
    "TARGET_AVERAGE_RANK = 8\n",
    "\n",
    "\n",
    "#####THIS NEEDS TO BECOME FUNCTION INPUTS####\n",
    "min_carb_intake = 50\n",
    "max_carb_intake = 70\n",
    "food_path = 'MyFoodData.csv'\n",
    "#############################################\n",
    "\n",
    "def prepare_fridge(food_path):\n",
    "    FRIDGE_ITEMS = 30\n",
    "    food_data = pd.read_csv(food_path, header=0)\n",
    "    fridge = food_data.sample(n=FRIDGE_ITEMS, replace=False, ignore_index=True)\n",
    "    return fridge\n",
    "\n",
    "if min_carb_intake < 0 or min_carb_intake > 300:\n",
    "    raise ValueError(f\"Invalid min carbohydrate intake: {min_carb_intake}\")\n",
    "\n",
    "if max_carb_intake < 0 or max_carb_intake > 300 or max_carb_intake < min_carb_intake:\n",
    "    raise ValueError(f\"Invalid max carbohydrate intake: {max_carb_intake}\")\n",
    "\n",
    "#def check_valid_menu(menu):\n",
    "    "
   ]
  },
  {
   "cell_type": "code",
   "execution_count": 133,
   "id": "bb4fbd6a",
   "metadata": {},
   "outputs": [
    {
     "data": {
      "text/plain": [
       "True"
      ]
     },
     "execution_count": 133,
     "metadata": {},
     "output_type": "execute_result"
    }
   ],
   "source": [
    "fridge = prepare_fridge(food_path)\n",
    "# fridge.loc[:,'Carbohydrate'].sum()\n",
    "# fridge.loc[:,'Carbohydrate'].count()\n",
    "# fridge.loc[:,'Ranking'].mean()\n",
    "# fridge.loc[:,'ID'].nunique()\n",
    "# fridge.loc[:,'ID'].count()\n",
    "# fridge[fridge.isin(['Beverages'])].dropna(how='all').empty"
   ]
  },
  {
   "cell_type": "code",
   "execution_count": 137,
   "id": "5f93d9ac",
   "metadata": {},
   "outputs": [
    {
     "data": {
      "text/plain": [
       "5"
      ]
     },
     "execution_count": 137,
     "metadata": {},
     "output_type": "execute_result"
    }
   ],
   "source": [
    "fridge.shape[1]"
   ]
  }
 ],
 "metadata": {
  "kernelspec": {
   "display_name": "Python 3 (ipykernel)",
   "language": "python",
   "name": "python3"
  },
  "language_info": {
   "codemirror_mode": {
    "name": "ipython",
    "version": 3
   },
   "file_extension": ".py",
   "mimetype": "text/x-python",
   "name": "python",
   "nbconvert_exporter": "python",
   "pygments_lexer": "ipython3",
   "version": "3.10.2"
  }
 },
 "nbformat": 4,
 "nbformat_minor": 5
}
